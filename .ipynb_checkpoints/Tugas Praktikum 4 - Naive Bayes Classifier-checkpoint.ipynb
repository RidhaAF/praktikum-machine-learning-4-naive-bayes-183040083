{
 "cells": [
  {
   "cell_type": "markdown",
   "metadata": {},
   "source": [
    "# Tugas Praktikum 4"
   ]
  },
  {
   "cell_type": "markdown",
   "metadata": {},
   "source": [
    "# Naive Bayes Classifier"
   ]
  },
  {
   "cell_type": "markdown",
   "metadata": {},
   "source": [
    "Ambil satu dataset dari pilihan berikut di sklearn:\n",
    "\n",
    "1. Boston house prices dataset\n",
    "2. Iris plants dataset\n",
    "3. Diabetes dataset\n",
    "4. Wine recognition dataset\n",
    "5. Breast cancer wisconsin (diagnostic) dataset\n",
    "\n",
    "Dataset bisa diakses melalui tautan berikut.\n",
    " __[scikit-learn.org/stable/datasets.html](https://scikit-learn.org/stable/datasets.html)__\n",
    " \n"
   ]
  },
  {
   "cell_type": "markdown",
   "metadata": {},
   "source": [
    "Panduan untuk mengakses dataset bisa dilihat kembali di Praktikum 2 - Dataset dan Pandas"
   ]
  },
  {
   "cell_type": "markdown",
   "metadata": {},
   "source": [
    "Ulang langkah-langkah yang dilakukan di Praktikum 4 - Naive Bayes Classifier sesuai dengan fitur di dataset terkait (cari nilai rata-rata dan median untuk fitur interval/rasio, transform dengan one-hot encoding fitur-fitur ordinal). Lakukan preprocessing lain jika perlu."
   ]
  }
 ],
 "metadata": {
  "kernelspec": {
   "display_name": "Python 3",
   "language": "python",
   "name": "python3"
  },
  "language_info": {
   "codemirror_mode": {
    "name": "ipython",
    "version": 3
   },
   "file_extension": ".py",
   "mimetype": "text/x-python",
   "name": "python",
   "nbconvert_exporter": "python",
   "pygments_lexer": "ipython3",
   "version": "3.8.3"
  }
 },
 "nbformat": 4,
 "nbformat_minor": 4
}
